{
 "cells": [
  {
   "cell_type": "code",
   "execution_count": 1,
   "id": "daa22e89",
   "metadata": {},
   "outputs": [],
   "source": [
    "from LogDict import FlashLogDict\n",
    "import numpy\n",
    "import matplotlib.pyplot as pyplot\n",
    "from types import SimpleNamespace"
   ]
  },
  {
   "cell_type": "code",
   "execution_count": 2,
   "id": "e3f631aa",
   "metadata": {},
   "outputs": [],
   "source": [
    "def LogNamespace(logfile):\n",
    "    logdict = FlashLogDict(logfile, process=True)\n",
    "    log = SimpleNamespace(evolution = 0., communication = 0., nucleation = 0., multiphase = 0.,\n",
    "                          incomp = 0., heat = 0., io = 0., poisson = 0., simtime = 0., walltime = 0., iters=0)\n",
    "\n",
    "    metric = \"time sec\"\n",
    "    \n",
    "    for key in logdict.keys():\n",
    "        if key == \"evolution\":\n",
    "            log.evolution = log.evolution + logdict[key][metric]\n",
    "        if key == \"guardcell internal\":\n",
    "            log.communication = log.communication + logdict[key][metric]\n",
    "        if key == \"Grid_solvePoisson\":\n",
    "            log.poisson = log.poisson + logdict[key][metric]\n",
    "        if \"sim_heater\" in key:\n",
    "            log.nucleation = log.nucleation + logdict[key][metric]\n",
    "        if \"Multiphase\" in key:\n",
    "            log.multiphase = log.multiphase + logdict[key][metric]\n",
    "        if (\"IncompNS\" in key) or (key == \"sim_outletSetForcing\"):\n",
    "            log.incomp = log.incomp + logdict[key][metric]\n",
    "        if \"HeatAD\" in key:\n",
    "            log.heat = log.heat + logdict[key][metric]\n",
    "        if key == \"IO_output\":\n",
    "            log.io = log.io + logdict[key][metric]\n",
    "            \n",
    "    return log"
   ]
  },
  {
   "cell_type": "code",
   "execution_count": 3,
   "id": "61b987c1",
   "metadata": {},
   "outputs": [],
   "source": [
    "SummitNodes25 = LogNamespace(\"../../simulation/FlowBoiling/Example3D/jobnode.archive/2023-10-03/INS_Flow_Boiling.log\")                              \n",
    "SummitNodes12 = LogNamespace(\"../../simulation/FlowBoiling/WeakScaling/nodes12/jobnode.archive/2023-10-03/INS_Flow_Boiling.log\")\n",
    "SummitNodes05 = LogNamespace(\"../../simulation/FlowBoiling/WeakScaling/nodes05/jobnode.archive/2023-10-03/INS_Flow_Boiling.log\")\n",
    "HPC3 = LogNamespace(\"./jobnode.archive/hpc3/INS_Pool_Boiling.log\")"
   ]
  },
  {
   "cell_type": "code",
   "execution_count": 4,
   "id": "44781254",
   "metadata": {},
   "outputs": [],
   "source": [
    "SummitNodes25.simtime = 0.5*10\n",
    "SummitNodes25.walltime = round(6553.903/60/60,1)\n",
    "SummitNodes25.iters=5849\n",
    "\n",
    "SummitNodes12.simtime = 0.5*10\n",
    "SummitNodes12.walltime = round(5882.297/60/60,1)\n",
    "SummitNodes12.iters=5569\n",
    "\n",
    "SummitNodes05.simtime = 0.5*10\n",
    "SummitNodes05.walltime = round(4142.082/60/60,1)\n",
    "SummitNodes05.iters=4931\n",
    "\n",
    "HPC3.simtimes = 1*10\n",
    "HPC3.walltime = round(19999.007/60/60,1)\n",
    "HPC3.iters=9634"
   ]
  },
  {
   "cell_type": "code",
   "execution_count": 5,
   "id": "2f0bf141",
   "metadata": {},
   "outputs": [
    {
     "ename": "NameError",
     "evalue": "name 'log' is not defined",
     "output_type": "error",
     "traceback": [
      "\u001b[0;31m---------------------------------------------------------------------------\u001b[0m",
      "\u001b[0;31mNameError\u001b[0m                                 Traceback (most recent call last)",
      "Cell \u001b[0;32mIn[5], line 13\u001b[0m\n\u001b[1;32m      9\u001b[0m \u001b[38;5;28;01mfor\u001b[39;00m index, ax \u001b[38;5;129;01min\u001b[39;00m \u001b[38;5;28menumerate\u001b[39m(axList):\n\u001b[1;32m     11\u001b[0m     labels \u001b[38;5;241m=\u001b[39m [\u001b[38;5;124m\"\u001b[39m\u001b[38;5;124mevolution\u001b[39m\u001b[38;5;124m\"\u001b[39m]\n\u001b[0;32m---> 13\u001b[0m     layer1 \u001b[38;5;241m=\u001b[39m [\u001b[43mlog\u001b[49m[\u001b[38;5;124m\"\u001b[39m\u001b[38;5;124mAmrMesh::MakeNewGrids\u001b[39m\u001b[38;5;124m\"\u001b[39m][\u001b[38;5;124m\"\u001b[39m\u001b[38;5;124mIncl. Avg\u001b[39m\u001b[38;5;124m\"\u001b[39m], \u001b[38;5;241m0\u001b[39m]\n\u001b[1;32m     14\u001b[0m     layer2 \u001b[38;5;241m=\u001b[39m [\u001b[38;5;241m0\u001b[39m, log[\u001b[38;5;124m\"\u001b[39m\u001b[38;5;124mBittree-btCheckRefine\u001b[39m\u001b[38;5;124m\"\u001b[39m][\u001b[38;5;124m\"\u001b[39m\u001b[38;5;124mIncl. Avg\u001b[39m\u001b[38;5;124m\"\u001b[39m]]\n\u001b[1;32m     15\u001b[0m     layer3 \u001b[38;5;241m=\u001b[39m [\u001b[38;5;241m0\u001b[39m, log[\u001b[38;5;124m\"\u001b[39m\u001b[38;5;124mBittree-checkNeighborsRefine\u001b[39m\u001b[38;5;124m\"\u001b[39m][\u001b[38;5;124m\"\u001b[39m\u001b[38;5;124mIncl. Avg\u001b[39m\u001b[38;5;124m\"\u001b[39m]]\n",
      "\u001b[0;31mNameError\u001b[0m: name 'log' is not defined"
     ]
    },
    {
     "data": {
      "image/png": "[encoded data removed]",
      "text/plain": [
       "<Figure size 960x480 with 3 Axes>"
      ]
     },
     "metadata": {},
     "output_type": "display_data"
    }
   ],
   "source": [
    "# Plot figure\n",
    "pyplot.rc(\"font\", family=\"serif\", size=14, weight=\"bold\")\n",
    "pyplot.rc(\"axes\", labelweight=\"bold\", titleweight=\"bold\")\n",
    "pyplot.rc(\"text\", usetex=True)\n",
    "figure = pyplot.figure(figsize=(12, 6), dpi=80)\n",
    "\n",
    "axList = figure.subplots(1,3)\n",
    "\n",
    "for index, ax in enumerate(axList):\n",
    "\n",
    "    labels = [\"evolution\"]\n",
    "    \n",
    "    layer1 = [log[\"AmrMesh::MakeNewGrids\"][\"Incl. Avg\"], 0]\n",
    "    layer2 = [0, log[\"Bittree-btCheckRefine\"][\"Incl. Avg\"]]\n",
    "    layer3 = [0, log[\"Bittree-checkNeighborsRefine\"][\"Incl. Avg\"]]\n",
    "    layer4 = [0, log[\"Bittree-btCheckDerefine\"][\"Incl. Avg\"]]\n",
    "\n",
    "    bar1 = ax.bar(labels, layer1, color=['steelblue', 'black'], edgecolor=\"black\")\n",
    "    bar2 = ax.bar(labels, layer2, color=['black', 'seagreen'], edgecolor=\"black\")\n",
    "    bar3 = ax.bar(labels, layer3, color=['black', 'palegoldenrod'], edgecolor=\"black\")\n",
    "    bar4 = ax.bar(labels, layer4, bottom=layer2, color=[\"black\", \"maroon\"], edgecolor=\"black\")\n",
    "\n",
    "    #ax.set_title(f\"AMReX Regridding in Bittree mode at {ranks} ranks\")\n",
    "    ax.set_ylabel(r\"Time (s)\")\n",
    "\n",
    "ax.legend([bar1[0],bar2[1], bar3[1],bar4[1]],[\"AmrMesh:MakeNewGrids\", \"Bittree-btCheckRefine\", \n",
    "                                              \"Bittree-checkNeighborsRefine\", \"Bittree-btCheckDerefine\"],\n",
    "          ncol=2,loc=\"lower center\",bbox_to_anchor=(0.5, -0.5),)\n",
    "\n",
    "pyplot.tight_layout()"
   ]
  }
 ],
 "metadata": {
  "kernelspec": {
   "display_name": "Python 3 (ipykernel)",
   "language": "python",
   "name": "python3"
  },
  "language_info": {
   "codemirror_mode": {
    "name": "ipython",
    "version": 3
   },
   "file_extension": ".py",
   "mimetype": "text/x-python",
   "name": "python",
   "nbconvert_exporter": "python",
   "pygments_lexer": "ipython3",
   "version": "3.11.5"
  }
 },
 "nbformat": 4,
 "nbformat_minor": 5
}
